{
  "nbformat": 4,
  "nbformat_minor": 0,
  "metadata": {
    "colab": {
      "provenance": [],
      "collapsed_sections": []
    },
    "kernelspec": {
      "name": "python3",
      "display_name": "Python 3"
    },
    "language_info": {
      "name": "python"
    }
  },
  "cells": [
    {
      "cell_type": "markdown",
      "source": [
        "# Reconocimiento de acciones humanas usando RNNs \n",
        "En este trabajo se va a comparar las arquitecturas RNN y CNN como se vieron en clase. Para realizar la comparación se utilizará el conjunto [UCF11](https://www.crcv.ucf.edu/data/UCF_YouTube_Action.php). Se realizarán algunos cambios en las arquitecturas para las pruebas. A continuación un ejemplo del conjunto UCF11.\n",
        "<img src=\"https://www.crcv.ucf.edu/data/youtube_snaps.jpg\" width=800/>"
      ],
      "metadata": {
        "id": "tQ_F5hydoJ-f"
      }
    },
    {
      "cell_type": "markdown",
      "source": [
        "## 1. Preparación\n"
      ],
      "metadata": {
        "id": "yUYXw0jLpia1"
      }
    },
    {
      "cell_type": "markdown",
      "source": [
        "### 1.1Librerias"
      ],
      "metadata": {
        "id": "7r1CqiJCnflV"
      }
    },
    {
      "cell_type": "code",
      "execution_count": null,
      "metadata": {
        "colab": {
          "base_uri": "https://localhost:8080/"
        },
        "id": "LmHucUog9EdW",
        "outputId": "4367f7d0-b0c8-494c-edd5-40b9b371715e"
      },
      "outputs": [
        {
          "output_type": "stream",
          "name": "stdout",
          "text": [
            "Looking in indexes: https://pypi.org/simple, https://us-python.pkg.dev/colab-wheels/public/simple/\n",
            "Requirement already satisfied: torchinfo in /usr/local/lib/python3.7/dist-packages (1.7.1)\n",
            "Looking in indexes: https://pypi.org/simple, https://us-python.pkg.dev/colab-wheels/public/simple/\n",
            "Requirement already satisfied: zarr in /usr/local/lib/python3.7/dist-packages (2.12.0)\n",
            "Requirement already satisfied: asciitree in /usr/local/lib/python3.7/dist-packages (from zarr) (0.3.3)\n",
            "Requirement already satisfied: numpy>=1.7 in /usr/local/lib/python3.7/dist-packages (from zarr) (1.21.6)\n",
            "Requirement already satisfied: fasteners in /usr/local/lib/python3.7/dist-packages (from zarr) (0.18)\n",
            "Requirement already satisfied: numcodecs>=0.6.4 in /usr/local/lib/python3.7/dist-packages (from zarr) (0.10.2)\n",
            "Requirement already satisfied: entrypoints in /usr/local/lib/python3.7/dist-packages (from numcodecs>=0.6.4->zarr) (0.4)\n",
            "Requirement already satisfied: typing-extensions>=3.7.4 in /usr/local/lib/python3.7/dist-packages (from numcodecs>=0.6.4->zarr) (4.1.1)\n"
          ]
        }
      ],
      "source": [
        "# Colab\n",
        "# https://github.com/TylerYep/torchinfo\n",
        "!pip install torchinfo\n",
        "# https://zarr.readthedocs.io/en/stable/\n",
        "!pip install zarr"
      ]
    },
    {
      "cell_type": "code",
      "source": [
        "# sistema de archivos\n",
        "import os\n",
        "# funciones aleatorias\n",
        "import random\n",
        "# descomprimir\n",
        "import tarfile\n",
        "# sistema de archivos\n",
        "from os.path import join\n",
        "\n",
        "# arreglos multidimensionales\n",
        "import numpy as np\n",
        "# redes neuronales\n",
        "import torch\n",
        "import torch.nn as nn\n",
        "import torch.nn.functional as F\n",
        "import torch.optim as optim\n",
        "import torchvision.datasets.utils as tvu\n",
        "# almacenamiento de arreglos multidimensionales\n",
        "import zarr\n",
        "#redes\n",
        "from torch.utils.data import DataLoader, random_split\n",
        "# inspección de arquitectura\n",
        "from torchinfo import summary\n",
        "import matplotlib.pyplot as plt\n",
        "# directorio de datos\n",
        "DATA_DIR = '../data'\n",
        "\n",
        "# tamaño del lote\n",
        "BATCH_SIZE = 32\n",
        "# tamaño del vector de características\n",
        "FEAT_SIZE = 1024\n",
        "\n",
        "# reproducibilidad\n",
        "SEED = 0\n",
        "random.seed(SEED)\n",
        "np.random.seed(SEED)\n",
        "torch_gen = torch.manual_seed(SEED)"
      ],
      "metadata": {
        "id": "OXe40eBJ9TMj"
      },
      "execution_count": null,
      "outputs": []
    },
    {
      "cell_type": "markdown",
      "source": [
        "## 2. Datos\n",
        "Para obtener el conjunto de datos usaremos las funciones vistas en la libreta de clases."
      ],
      "metadata": {
        "id": "fu4lfrIerKth"
      }
    },
    {
      "cell_type": "markdown",
      "source": [
        "Primero se crea una función para obtener los datos de un sitio web."
      ],
      "metadata": {
        "id": "BduS9v65sMrU"
      }
    },
    {
      "cell_type": "code",
      "source": [
        "class UCF11:\n",
        "\n",
        "    def __init__(self, root, download=False):\n",
        "        self.root = root\n",
        "        self.zarr_dir = join(root, 'ucf11.zarr')\n",
        "        if download:\n",
        "            self.download()\n",
        "        self.z = zarr.open(self.zarr_dir, 'r')\n",
        "        self.paths = list(self.z.array_keys())\n",
        "        \n",
        "    def __getitem__(self, i):\n",
        "        arr = self.z[self.paths[i]]\n",
        "        x = np.array(arr)\n",
        "        y = np.array(arr.attrs['y'], dtype=np.int64)\n",
        "        return x, y\n",
        "\n",
        "    def __len__(self):\n",
        "        return len(self.paths)\n",
        "    \n",
        "    def _check_integrity(self):\n",
        "        return os.path.isdir(self.zarr_dir)\n",
        "    \n",
        "    def _extract(self, root, filename):\n",
        "        tar = tarfile.open(join(root, filename), \"r:gz\")\n",
        "        tar.extractall(root)\n",
        "        tar.close()\n",
        "\n",
        "    def download(self):\n",
        "        if self._check_integrity():\n",
        "            print('Files already downloaded and verified')\n",
        "            return\n",
        "        tvu.download_url(\n",
        "            url='https://cloud.xibalba.com.mx/s/apYrNA4iM4K65o7/download',\n",
        "            root=self.root,\n",
        "            filename='ucf11.zarr.tar.gz',\n",
        "            md5='c8a82454f9ec092d00bcd99c849e03fd'\n",
        "        )\n",
        "        self._extract(self.root, 'ucf11.zarr.tar.gz')"
      ],
      "metadata": {
        "id": "C2Oozdvi9xO8"
      },
      "execution_count": null,
      "outputs": []
    },
    {
      "cell_type": "markdown",
      "source": [
        "Después se unen en un dataset y se dibiden en training y test."
      ],
      "metadata": {
        "id": "KHwxcwUrshYL"
      }
    },
    {
      "cell_type": "code",
      "source": [
        "ds = UCF11(join(DATA_DIR, 'ucf11'), True)\n",
        "x, y = ds[0]\n",
        "print(f'x shape={x.shape} dtype={x.dtype}')\n",
        "print(f'x [0][:5]={x[0][:5]}')\n",
        "print(f'y shape={y.shape} dtype={y.dtype} {y}')\n",
        "print(f'y {y}')"
      ],
      "metadata": {
        "colab": {
          "base_uri": "https://localhost:8080/"
        },
        "id": "Qt6o8jFw9z_K",
        "outputId": "cad44eb6-ad40-4a5f-94f0-2b22baf86ae6"
      },
      "execution_count": null,
      "outputs": [
        {
          "output_type": "stream",
          "name": "stdout",
          "text": [
            "Files already downloaded and verified\n",
            "x shape=(10, 1024) dtype=float32\n",
            "x [0][:5]=[0.00022111 0.00368518 0.00314753 0.00201778 0.09296297]\n",
            "y shape=() dtype=int64 0\n",
            "y 0\n"
          ]
        }
      ]
    },
    {
      "cell_type": "code",
      "source": [
        "trn_size = int(0.8 * len(ds))\n",
        "tst_size = len(ds) - trn_size\n",
        "trn_ds, tst_ds = random_split(ds, [trn_size, tst_size])\n",
        "len(trn_ds), len(tst_ds)"
      ],
      "metadata": {
        "colab": {
          "base_uri": "https://localhost:8080/"
        },
        "id": "_XUbODCi94m8",
        "outputId": "b5abd8ce-7584-4003-ced9-6c475944d6d9"
      },
      "execution_count": null,
      "outputs": [
        {
          "output_type": "execute_result",
          "data": {
            "text/plain": [
              "(1279, 320)"
            ]
          },
          "metadata": {},
          "execution_count": 17
        }
      ]
    },
    {
      "cell_type": "code",
      "source": [
        "trn_dl = DataLoader(\n",
        "    # conjunto\n",
        "    trn_ds,\n",
        "    # tamaño del lote\n",
        "    batch_size=BATCH_SIZE,\n",
        "    # desordenar\n",
        "    shuffle=True,\n",
        "    # procesos paralelos\n",
        "    num_workers=2\n",
        ")\n",
        "tst_dl = DataLoader(\n",
        "    # conjunto\n",
        "    tst_ds,\n",
        "    # tamaño del lote\n",
        "    batch_size=BATCH_SIZE,\n",
        "    # desordenar\n",
        "    shuffle=True,\n",
        "    # procesos paralelos\n",
        "    num_workers=2\n",
        ")"
      ],
      "metadata": {
        "id": "aXijwlNd-dNH"
      },
      "execution_count": null,
      "outputs": []
    },
    {
      "cell_type": "code",
      "source": [
        "x, y = next(iter(trn_dl))\n",
        "print(f'x shape={x.shape} dtype={x.dtype}')\n",
        "print(f'y shape={y.shape} dtype={y.dtype}')"
      ],
      "metadata": {
        "colab": {
          "base_uri": "https://localhost:8080/"
        },
        "id": "QvNRDox3-gtE",
        "outputId": "c7bef4f4-9f5b-4b80-d56b-61eb1ae95109"
      },
      "execution_count": null,
      "outputs": [
        {
          "output_type": "stream",
          "name": "stdout",
          "text": [
            "x shape=torch.Size([32, 10, 1024]) dtype=torch.float32\n",
            "y shape=torch.Size([32]) dtype=torch.int64\n"
          ]
        }
      ]
    },
    {
      "cell_type": "markdown",
      "source": [
        "## 3. Modelos"
      ],
      "metadata": {
        "id": "SOmwMHxdvMdJ"
      }
    },
    {
      "cell_type": "markdown",
      "source": [
        "### 3.1 RNN\n",
        "\n",
        "Esta arquitectura es muy similar a la vista en clase, sólo se hicieron unas modificaciones como es el caso de que sea bidireccional, al permitir esto, la salida de la capa GRU cambia por lo que también se modifica la entrada de la capa *lineal*. "
      ],
      "metadata": {
        "id": "LmymjiKbyLf1"
      }
    },
    {
      "cell_type": "code",
      "source": [
        "class RNN(nn.Module):\n",
        "\n",
        "    def __init__(self, input_size=1024, hidden_size=128, num_classes=11):\n",
        "        super().__init__()\n",
        "        self.bn = nn.BatchNorm1d(input_size)\n",
        "        self.rnn = nn.GRU(input_size=input_size, hidden_size=hidden_size,\n",
        "                          num_layers=1, batch_first=True, bidirectional = True)\n",
        "        self.cls = nn.Linear(2*hidden_size, num_classes)\n",
        "\n",
        "    def forward(self, x):\n",
        "        # Batch, Seq, Feats, Hidden\n",
        "        # [B, S, F] => [B, F, S]\n",
        "        x = x.movedim(1, 2)\n",
        "        # [B, F, S]\n",
        "        x = self.bn(x)\n",
        "        # [B, F, S] => [B, S, F]\n",
        "        x = x.movedim(1, 2)\n",
        "        # [B, S, F] => [B, S, H]\n",
        "        x, _ = self.rnn(x)\n",
        "        # [B, S, H] => [B, H]\n",
        "        # toma el último paso, participación 1\n",
        "        x = x[:, -1, :]\n",
        "        # [B, H] = [B, 11]\n",
        "        x = self.cls(x)\n",
        "        return x\n",
        "        "
      ],
      "metadata": {
        "id": "sCk4nHSzGqKP"
      },
      "execution_count": null,
      "outputs": []
    },
    {
      "cell_type": "code",
      "source": [
        "model1 = RNN().eval()\n",
        "model1(torch.zeros(1, 10, 1024)).shape"
      ],
      "metadata": {
        "colab": {
          "base_uri": "https://localhost:8080/"
        },
        "id": "Wjrlc8WYG-_W",
        "outputId": "ea0e5871-c3f5-4256-9faa-7c826420186b"
      },
      "execution_count": null,
      "outputs": [
        {
          "output_type": "execute_result",
          "data": {
            "text/plain": [
              "torch.Size([1, 11])"
            ]
          },
          "metadata": {},
          "execution_count": 104
        }
      ]
    },
    {
      "cell_type": "code",
      "source": [
        "summary(model1, (1, 10, 1024), device='cpu', verbose=0)"
      ],
      "metadata": {
        "colab": {
          "base_uri": "https://localhost:8080/"
        },
        "id": "qR-DvuQ8HHnF",
        "outputId": "5115de07-9b87-418c-f658-4566721c233f"
      },
      "execution_count": null,
      "outputs": [
        {
          "output_type": "execute_result",
          "data": {
            "text/plain": [
              "==========================================================================================\n",
              "Layer (type:depth-idx)                   Output Shape              Param #\n",
              "==========================================================================================\n",
              "RNN                                      [1, 11]                   --\n",
              "├─BatchNorm1d: 1-1                       [1, 1024, 10]             2,048\n",
              "├─GRU: 1-2                               [1, 10, 256]              886,272\n",
              "├─Linear: 1-3                            [1, 11]                   2,827\n",
              "==========================================================================================\n",
              "Total params: 891,147\n",
              "Trainable params: 891,147\n",
              "Non-trainable params: 0\n",
              "Total mult-adds (M): 8.87\n",
              "==========================================================================================\n",
              "Input size (MB): 0.04\n",
              "Forward/backward pass size (MB): 0.10\n",
              "Params size (MB): 3.56\n",
              "Estimated Total Size (MB): 3.71\n",
              "=========================================================================================="
            ]
          },
          "metadata": {},
          "execution_count": 105
        }
      ]
    },
    {
      "cell_type": "markdown",
      "source": [
        "Comparando con el modelo CNN el número de parámetros es significativamente distinto por lo que se propone cambiar los valores para que sean similares se utiliza entonces se cambia la profundidad a 19. Se entrenaran las 3 redes para comparar."
      ],
      "metadata": {
        "id": "CXAvXs1Jci5Z"
      }
    },
    {
      "cell_type": "code",
      "source": [
        "class RNN1(nn.Module):\n",
        "\n",
        "    def __init__(self, input_size=1024, hidden_size=19, num_classes=11):\n",
        "        super().__init__()\n",
        "        self.bn = nn.BatchNorm1d(input_size)\n",
        "        self.rnn = nn.GRU(input_size=input_size, hidden_size=hidden_size,\n",
        "                          num_layers=1, batch_first=True, bidirectional = True)\n",
        "        self.cls = nn.Linear(2*hidden_size, num_classes)\n",
        "\n",
        "    def forward(self, x):\n",
        "        # Batch, Seq, Feats, Hidden\n",
        "        # [B, S, F] => [B, F, S]\n",
        "        x = x.movedim(1, 2)\n",
        "        # [B, F, S]\n",
        "        x = self.bn(x)\n",
        "        # [B, F, S] => [B, S, F]\n",
        "        x = x.movedim(1, 2)\n",
        "        # [B, S, F] => [B, S, H]\n",
        "        x, _ = self.rnn(x)\n",
        "        # [B, S, H] => [B, H]\n",
        "        # toma el último paso, participación 1\n",
        "        x = x[:, -1, :]\n",
        "        # [B, H] = [B, 11]\n",
        "        x = self.cls(x)\n",
        "        return x\n",
        "        "
      ],
      "metadata": {
        "id": "tNC29J8papxH"
      },
      "execution_count": null,
      "outputs": []
    },
    {
      "cell_type": "code",
      "source": [
        "model3 = RNN1().eval()\n",
        "model3(torch.zeros(1, 10, 1024)).shape"
      ],
      "metadata": {
        "colab": {
          "base_uri": "https://localhost:8080/"
        },
        "id": "vFk80X5Zas4f",
        "outputId": "b8d8eff6-427c-4ece-a06e-78aa17c98930"
      },
      "execution_count": null,
      "outputs": [
        {
          "output_type": "execute_result",
          "data": {
            "text/plain": [
              "torch.Size([1, 11])"
            ]
          },
          "metadata": {},
          "execution_count": 141
        }
      ]
    },
    {
      "cell_type": "code",
      "source": [
        "summary(model3, (1, 10, 1024), device='cpu', verbose=0)"
      ],
      "metadata": {
        "colab": {
          "base_uri": "https://localhost:8080/"
        },
        "id": "GN_7TLYYawxe",
        "outputId": "93c35169-2ef7-4443-fb1d-c9071ee07f84"
      },
      "execution_count": null,
      "outputs": [
        {
          "output_type": "execute_result",
          "data": {
            "text/plain": [
              "==========================================================================================\n",
              "Layer (type:depth-idx)                   Output Shape              Param #\n",
              "==========================================================================================\n",
              "RNN1                                     [1, 11]                   --\n",
              "├─BatchNorm1d: 1-1                       [1, 1024, 10]             2,048\n",
              "├─GRU: 1-2                               [1, 10, 38]               119,130\n",
              "├─Linear: 1-3                            [1, 11]                   429\n",
              "==========================================================================================\n",
              "Total params: 121,607\n",
              "Trainable params: 121,607\n",
              "Non-trainable params: 0\n",
              "Total mult-adds (M): 1.19\n",
              "==========================================================================================\n",
              "Input size (MB): 0.04\n",
              "Forward/backward pass size (MB): 0.09\n",
              "Params size (MB): 0.49\n",
              "Estimated Total Size (MB): 0.61\n",
              "=========================================================================================="
            ]
          },
          "metadata": {},
          "execution_count": 142
        }
      ]
    },
    {
      "cell_type": "markdown",
      "source": [
        "### 3.2 CNN\n",
        "Para crear la arquitectura CNN me baso en la que creamos en clase en la libreta: Red convolucional: MNIST. "
      ],
      "metadata": {
        "id": "BJMR7FXu9rcK"
      }
    },
    {
      "cell_type": "code",
      "source": [
        "class CNN(nn.Module):\n",
        "    def __init__(self):\n",
        "        super(CNN, self).__init__()\n",
        "        self.num_feats = 11*1024\n",
        "        \n",
        "        self.cnn = nn.Sequential(\n",
        "            nn.Conv1d(in_channels=10, out_channels=11, kernel_size=3, padding=1),\n",
        "            nn.ReLU(),\n",
        "        )       \n",
        "        self.flatten = nn.Flatten()\n",
        "        self.cls = nn.Linear(self.num_feats, 11)\n",
        "    \n",
        "\n",
        "    def forward(self, x):\n",
        "        x = self.cnn(x)\n",
        "        x = self.flatten(x)\n",
        "        x = self.cls(x)\n",
        "        return x"
      ],
      "metadata": {
        "id": "2NWT3JYx-Hji"
      },
      "execution_count": null,
      "outputs": []
    },
    {
      "cell_type": "code",
      "source": [
        "model2 = CNN().eval()\n",
        "model2(torch.zeros(1, 10, 1024)).shape"
      ],
      "metadata": {
        "colab": {
          "base_uri": "https://localhost:8080/"
        },
        "id": "ZOaOXe_YLSUN",
        "outputId": "fb278e92-9087-44bb-8766-45de9ac565fa"
      },
      "execution_count": null,
      "outputs": [
        {
          "output_type": "execute_result",
          "data": {
            "text/plain": [
              "torch.Size([1, 11])"
            ]
          },
          "metadata": {},
          "execution_count": 116
        }
      ]
    },
    {
      "cell_type": "code",
      "source": [
        "summary(model2, (1, 10, 1024), device='cpu', verbose=0)"
      ],
      "metadata": {
        "colab": {
          "base_uri": "https://localhost:8080/"
        },
        "id": "2rPH1zGOXH7U",
        "outputId": "9ab4c586-4867-400f-a1b9-19241c003b3e"
      },
      "execution_count": null,
      "outputs": [
        {
          "output_type": "execute_result",
          "data": {
            "text/plain": [
              "==========================================================================================\n",
              "Layer (type:depth-idx)                   Output Shape              Param #\n",
              "==========================================================================================\n",
              "CNN                                      [1, 11]                   --\n",
              "├─Sequential: 1-1                        [1, 11, 1024]             --\n",
              "│    └─Conv1d: 2-1                       [1, 11, 1024]             341\n",
              "│    └─ReLU: 2-2                         [1, 11, 1024]             --\n",
              "├─Flatten: 1-2                           [1, 11264]                --\n",
              "├─Linear: 1-3                            [1, 11]                   123,915\n",
              "==========================================================================================\n",
              "Total params: 124,256\n",
              "Trainable params: 124,256\n",
              "Non-trainable params: 0\n",
              "Total mult-adds (M): 0.47\n",
              "==========================================================================================\n",
              "Input size (MB): 0.04\n",
              "Forward/backward pass size (MB): 0.09\n",
              "Params size (MB): 0.50\n",
              "Estimated Total Size (MB): 0.63\n",
              "=========================================================================================="
            ]
          },
          "metadata": {},
          "execution_count": 122
        }
      ]
    },
    {
      "cell_type": "markdown",
      "source": [
        "## 4. Entrenamiento"
      ],
      "metadata": {
        "id": "VTCGPdcLdjfy"
      }
    },
    {
      "cell_type": "code",
      "source": [
        "def entrenar(modelo):\n",
        "# optimizador\n",
        "  opt = optim.Adam(modelo.parameters(), lr=1e-3)\n",
        "  aux =[]\n",
        "  aux1 =[]\n",
        "# ciclo de entrenamiento\n",
        "  EPOCHS = 100\n",
        "  for epoch in range(EPOCHS):\n",
        "\n",
        "    # modelo en modo de entrenamiento\n",
        "      modelo.train()\n",
        "    \n",
        "    # entrenamiento de una época\n",
        "      for x, y_true in trn_dl:\n",
        "        # hacemos inferencia para obtener los logits\n",
        "          y_lgts = modelo(x)\n",
        "        # calculamos la pérdida\n",
        "          loss = F.cross_entropy(y_lgts, y_true)\n",
        "        # vaciamos los gradientes\n",
        "          opt.zero_grad()\n",
        "        # retropropagamos\n",
        "          loss.backward()\n",
        "        # actulizamos parámetros\n",
        "          opt.step()\n",
        "\n",
        "    # desactivamos temporalmente la gráfica de cómputo\n",
        "      with torch.no_grad():\n",
        "\n",
        "        # modelo en modo de evaluación\n",
        "          modelo.eval()\n",
        "        \n",
        "          losses, accs = [], []\n",
        "        # validación de la época\n",
        "          for x, y_true in tst_dl:\n",
        "            # hacemos inferencia para obtener los logits\n",
        "              y_lgts = modelo(x)\n",
        "            # calculamos las probabilidades\n",
        "              y_prob = F.softmax(y_lgts, 1)\n",
        "            # obtenemos la clase predicha\n",
        "              y_pred = torch.argmax(y_prob, 1)\n",
        "            \n",
        "            # calculamos la pérdida\n",
        "              loss = F.cross_entropy(y_lgts, y_true)\n",
        "            # calculamos la exactitud\n",
        "              acc = (y_true == y_pred).type(torch.float32).mean()\n",
        "\n",
        "            # guardamos históricos\n",
        "              losses.append(loss.item() * 100)\n",
        "              accs.append(acc.item() * 100)\n",
        "\n",
        "        # imprimimos métricas\n",
        "          loss = np.mean(losses)\n",
        "          acc = np.mean(accs)\n",
        "          aux.append(loss)\n",
        "          aux1.append(acc)\n",
        "          print(f'E{epoch:2} loss={loss:6.2f} acc={acc:.2f}')\n",
        "  return aux, aux1"
      ],
      "metadata": {
        "id": "zmpdLylLJIs3"
      },
      "execution_count": null,
      "outputs": []
    },
    {
      "cell_type": "code",
      "source": [
        "loss1, acc1 = entrenar(model1)"
      ],
      "metadata": {
        "colab": {
          "base_uri": "https://localhost:8080/"
        },
        "id": "Jt3j_IW4neNv",
        "outputId": "83729e51-1652-473a-8f56-cd8eb95ff9a1"
      },
      "execution_count": null,
      "outputs": [
        {
          "output_type": "stream",
          "name": "stdout",
          "text": [
            "E 0 loss=300.96 acc=49.69\n",
            "E 1 loss=302.59 acc=52.19\n",
            "E 2 loss=304.54 acc=53.12\n",
            "E 3 loss=318.47 acc=50.00\n",
            "E 4 loss=310.67 acc=51.88\n",
            "E 5 loss=317.71 acc=50.62\n",
            "E 6 loss=313.67 acc=51.25\n",
            "E 7 loss=316.41 acc=52.50\n",
            "E 8 loss=318.95 acc=52.50\n",
            "E 9 loss=313.82 acc=52.50\n",
            "E10 loss=310.82 acc=50.00\n",
            "E11 loss=322.47 acc=49.06\n",
            "E12 loss=342.06 acc=47.50\n",
            "E13 loss=321.67 acc=48.12\n",
            "E14 loss=312.38 acc=49.38\n",
            "E15 loss=322.32 acc=48.75\n",
            "E16 loss=313.60 acc=50.94\n",
            "E17 loss=306.96 acc=51.88\n",
            "E18 loss=308.08 acc=51.56\n",
            "E19 loss=312.69 acc=53.44\n",
            "E20 loss=310.90 acc=51.56\n",
            "E21 loss=313.69 acc=51.25\n",
            "E22 loss=318.32 acc=50.00\n",
            "E23 loss=317.93 acc=51.25\n",
            "E24 loss=313.44 acc=51.88\n",
            "E25 loss=315.09 acc=50.31\n",
            "E26 loss=318.24 acc=50.31\n",
            "E27 loss=317.38 acc=50.94\n",
            "E28 loss=321.93 acc=50.00\n",
            "E29 loss=322.03 acc=51.25\n",
            "E30 loss=323.52 acc=50.62\n",
            "E31 loss=320.36 acc=50.31\n",
            "E32 loss=327.17 acc=50.31\n",
            "E33 loss=321.29 acc=50.31\n",
            "E34 loss=321.87 acc=50.62\n",
            "E35 loss=321.19 acc=50.31\n",
            "E36 loss=323.05 acc=50.94\n",
            "E37 loss=327.60 acc=48.75\n",
            "E38 loss=324.62 acc=52.19\n",
            "E39 loss=324.06 acc=52.19\n",
            "E40 loss=320.23 acc=52.81\n",
            "E41 loss=323.32 acc=51.25\n",
            "E42 loss=320.80 acc=51.56\n",
            "E43 loss=321.49 acc=51.56\n",
            "E44 loss=318.34 acc=52.19\n",
            "E45 loss=318.02 acc=53.12\n",
            "E46 loss=320.13 acc=52.50\n",
            "E47 loss=317.42 acc=52.50\n",
            "E48 loss=317.59 acc=53.12\n",
            "E49 loss=319.37 acc=52.81\n",
            "E50 loss=320.58 acc=52.19\n",
            "E51 loss=319.27 acc=53.12\n",
            "E52 loss=313.21 acc=52.50\n",
            "E53 loss=318.86 acc=52.81\n",
            "E54 loss=319.84 acc=52.50\n",
            "E55 loss=322.92 acc=51.88\n",
            "E56 loss=320.84 acc=52.50\n",
            "E57 loss=324.67 acc=51.88\n",
            "E58 loss=324.17 acc=53.12\n",
            "E59 loss=322.51 acc=53.12\n",
            "E60 loss=322.78 acc=53.44\n",
            "E61 loss=325.46 acc=52.50\n",
            "E62 loss=328.18 acc=51.88\n",
            "E63 loss=326.22 acc=53.12\n",
            "E64 loss=325.72 acc=52.19\n",
            "E65 loss=326.49 acc=52.50\n",
            "E66 loss=330.95 acc=52.81\n",
            "E67 loss=326.40 acc=53.12\n",
            "E68 loss=321.16 acc=52.81\n",
            "E69 loss=324.86 acc=53.44\n",
            "E70 loss=326.52 acc=51.88\n",
            "E71 loss=327.67 acc=53.44\n",
            "E72 loss=324.41 acc=51.88\n",
            "E73 loss=329.86 acc=51.56\n",
            "E74 loss=326.01 acc=51.88\n",
            "E75 loss=327.15 acc=51.88\n",
            "E76 loss=323.39 acc=52.81\n",
            "E77 loss=323.10 acc=53.44\n",
            "E78 loss=324.28 acc=52.19\n",
            "E79 loss=320.65 acc=52.19\n",
            "E80 loss=325.19 acc=52.19\n",
            "E81 loss=327.47 acc=53.12\n",
            "E82 loss=322.26 acc=52.50\n",
            "E83 loss=323.96 acc=52.81\n",
            "E84 loss=326.65 acc=52.19\n",
            "E85 loss=324.76 acc=52.50\n",
            "E86 loss=326.64 acc=51.88\n",
            "E87 loss=328.23 acc=53.12\n",
            "E88 loss=332.71 acc=52.81\n",
            "E89 loss=329.52 acc=53.44\n",
            "E90 loss=331.90 acc=52.81\n",
            "E91 loss=333.97 acc=53.44\n",
            "E92 loss=332.59 acc=53.44\n",
            "E93 loss=329.87 acc=53.12\n",
            "E94 loss=330.35 acc=53.75\n",
            "E95 loss=332.01 acc=53.44\n",
            "E96 loss=333.11 acc=54.38\n",
            "E97 loss=325.38 acc=54.06\n",
            "E98 loss=331.75 acc=53.44\n",
            "E99 loss=329.33 acc=54.06\n"
          ]
        }
      ]
    },
    {
      "cell_type": "code",
      "source": [
        "loss2, acc2= entrenar(model2)"
      ],
      "metadata": {
        "colab": {
          "base_uri": "https://localhost:8080/"
        },
        "id": "6IBaRGh_V1Oa",
        "outputId": "ac5799f5-29b3-4ad4-ca4f-447cacd9f159"
      },
      "execution_count": null,
      "outputs": [
        {
          "output_type": "stream",
          "name": "stdout",
          "text": [
            "E 0 loss=602.94 acc=30.62\n",
            "E 1 loss=600.69 acc=31.25\n",
            "E 2 loss=618.50 acc=29.69\n",
            "E 3 loss=629.15 acc=28.75\n",
            "E 4 loss=598.71 acc=31.25\n",
            "E 5 loss=604.01 acc=32.19\n",
            "E 6 loss=615.73 acc=30.62\n",
            "E 7 loss=616.38 acc=31.56\n",
            "E 8 loss=626.42 acc=30.94\n",
            "E 9 loss=630.89 acc=31.88\n",
            "E10 loss=603.36 acc=30.62\n",
            "E11 loss=636.53 acc=29.69\n",
            "E12 loss=630.17 acc=30.94\n",
            "E13 loss=637.66 acc=32.19\n",
            "E14 loss=645.53 acc=30.62\n",
            "E15 loss=617.11 acc=32.19\n",
            "E16 loss=631.85 acc=31.25\n",
            "E17 loss=624.12 acc=31.25\n",
            "E18 loss=635.03 acc=31.88\n",
            "E19 loss=630.03 acc=29.38\n",
            "E20 loss=656.55 acc=29.38\n",
            "E21 loss=648.43 acc=30.62\n",
            "E22 loss=623.30 acc=31.88\n",
            "E23 loss=659.83 acc=29.69\n",
            "E24 loss=649.14 acc=31.25\n",
            "E25 loss=638.20 acc=31.56\n",
            "E26 loss=623.49 acc=31.56\n",
            "E27 loss=629.72 acc=30.94\n",
            "E28 loss=657.86 acc=29.38\n",
            "E29 loss=631.26 acc=32.19\n",
            "E30 loss=652.83 acc=30.62\n",
            "E31 loss=645.02 acc=31.88\n",
            "E32 loss=655.43 acc=30.31\n",
            "E33 loss=651.52 acc=29.69\n",
            "E34 loss=653.74 acc=29.06\n",
            "E35 loss=682.25 acc=28.75\n",
            "E36 loss=668.50 acc=30.62\n",
            "E37 loss=659.31 acc=29.69\n",
            "E38 loss=666.22 acc=30.00\n",
            "E39 loss=657.93 acc=29.69\n",
            "E40 loss=667.22 acc=31.88\n",
            "E41 loss=675.12 acc=30.00\n",
            "E42 loss=675.02 acc=30.31\n",
            "E43 loss=659.70 acc=31.25\n",
            "E44 loss=660.96 acc=30.94\n",
            "E45 loss=691.90 acc=29.06\n",
            "E46 loss=661.68 acc=30.62\n",
            "E47 loss=687.86 acc=30.62\n",
            "E48 loss=666.91 acc=29.38\n",
            "E49 loss=667.14 acc=29.69\n",
            "E50 loss=683.18 acc=30.31\n",
            "E51 loss=672.50 acc=29.69\n",
            "E52 loss=680.21 acc=30.62\n",
            "E53 loss=677.83 acc=31.25\n",
            "E54 loss=690.68 acc=31.25\n",
            "E55 loss=691.92 acc=30.00\n",
            "E56 loss=692.34 acc=30.31\n",
            "E57 loss=688.15 acc=30.31\n",
            "E58 loss=689.77 acc=29.38\n",
            "E59 loss=696.14 acc=30.00\n",
            "E60 loss=704.64 acc=28.12\n",
            "E61 loss=666.71 acc=30.31\n",
            "E62 loss=704.50 acc=30.00\n",
            "E63 loss=684.84 acc=30.62\n",
            "E64 loss=728.74 acc=29.38\n",
            "E65 loss=688.08 acc=28.44\n",
            "E66 loss=731.70 acc=28.12\n",
            "E67 loss=695.96 acc=30.31\n",
            "E68 loss=697.65 acc=30.31\n",
            "E69 loss=699.50 acc=30.00\n",
            "E70 loss=696.91 acc=30.62\n",
            "E71 loss=696.42 acc=29.06\n",
            "E72 loss=705.97 acc=29.06\n",
            "E73 loss=716.41 acc=29.06\n",
            "E74 loss=691.71 acc=31.88\n",
            "E75 loss=725.78 acc=29.06\n",
            "E76 loss=733.28 acc=30.00\n",
            "E77 loss=711.36 acc=29.69\n",
            "E78 loss=709.80 acc=29.69\n",
            "E79 loss=726.99 acc=29.69\n",
            "E80 loss=735.10 acc=29.06\n",
            "E81 loss=731.97 acc=29.38\n",
            "E82 loss=720.38 acc=30.31\n",
            "E83 loss=713.03 acc=30.00\n",
            "E84 loss=720.98 acc=30.31\n",
            "E85 loss=711.34 acc=30.62\n",
            "E86 loss=710.05 acc=30.00\n",
            "E87 loss=727.99 acc=29.06\n",
            "E88 loss=721.56 acc=29.06\n",
            "E89 loss=746.77 acc=28.12\n",
            "E90 loss=722.40 acc=30.31\n",
            "E91 loss=723.53 acc=30.00\n",
            "E92 loss=746.47 acc=28.44\n",
            "E93 loss=734.74 acc=29.38\n",
            "E94 loss=734.99 acc=30.94\n",
            "E95 loss=725.15 acc=30.31\n",
            "E96 loss=727.72 acc=30.31\n",
            "E97 loss=740.91 acc=30.00\n",
            "E98 loss=740.87 acc=30.62\n",
            "E99 loss=728.87 acc=29.06\n"
          ]
        }
      ]
    },
    {
      "cell_type": "code",
      "source": [
        "loss3, acc3 = entrenar(model3)"
      ],
      "metadata": {
        "colab": {
          "base_uri": "https://localhost:8080/"
        },
        "id": "_l5mIkfadx09",
        "outputId": "c264b75c-6719-49b1-f16e-7d7fccfed7ca"
      },
      "execution_count": null,
      "outputs": [
        {
          "output_type": "stream",
          "name": "stdout",
          "text": [
            "E 0 loss=355.76 acc=44.06\n",
            "E 1 loss=340.71 acc=44.06\n",
            "E 2 loss=345.97 acc=44.06\n",
            "E 3 loss=350.44 acc=43.75\n",
            "E 4 loss=351.11 acc=44.06\n",
            "E 5 loss=340.08 acc=42.81\n",
            "E 6 loss=343.07 acc=42.81\n",
            "E 7 loss=355.38 acc=41.56\n",
            "E 8 loss=350.40 acc=40.31\n",
            "E 9 loss=359.74 acc=42.19\n",
            "E10 loss=357.24 acc=40.62\n",
            "E11 loss=354.49 acc=42.50\n",
            "E12 loss=359.69 acc=41.56\n",
            "E13 loss=348.34 acc=43.44\n",
            "E14 loss=338.45 acc=41.56\n",
            "E15 loss=333.06 acc=44.06\n",
            "E16 loss=337.96 acc=43.44\n",
            "E17 loss=338.47 acc=43.75\n",
            "E18 loss=341.22 acc=44.38\n",
            "E19 loss=342.90 acc=43.75\n",
            "E20 loss=344.05 acc=43.44\n",
            "E21 loss=342.73 acc=45.94\n",
            "E22 loss=346.62 acc=43.75\n",
            "E23 loss=346.34 acc=45.62\n",
            "E24 loss=346.36 acc=42.50\n",
            "E25 loss=347.32 acc=44.38\n",
            "E26 loss=347.28 acc=43.75\n",
            "E27 loss=350.03 acc=42.81\n",
            "E28 loss=346.44 acc=43.75\n",
            "E29 loss=350.79 acc=44.38\n",
            "E30 loss=353.09 acc=44.06\n",
            "E31 loss=347.96 acc=45.31\n",
            "E32 loss=351.14 acc=44.69\n",
            "E33 loss=352.67 acc=44.06\n",
            "E34 loss=352.19 acc=43.12\n",
            "E35 loss=352.09 acc=44.38\n",
            "E36 loss=353.56 acc=45.62\n",
            "E37 loss=351.35 acc=45.94\n",
            "E38 loss=351.92 acc=45.94\n",
            "E39 loss=351.07 acc=44.38\n",
            "E40 loss=358.67 acc=42.19\n",
            "E41 loss=356.62 acc=42.50\n",
            "E42 loss=360.95 acc=43.44\n",
            "E43 loss=356.52 acc=45.31\n",
            "E44 loss=355.40 acc=45.62\n",
            "E45 loss=352.01 acc=44.38\n",
            "E46 loss=359.36 acc=44.69\n",
            "E47 loss=358.02 acc=43.75\n",
            "E48 loss=353.44 acc=45.00\n",
            "E49 loss=368.96 acc=42.19\n",
            "E50 loss=376.31 acc=42.19\n",
            "E51 loss=367.68 acc=42.81\n",
            "E52 loss=364.60 acc=43.44\n",
            "E53 loss=363.47 acc=42.50\n",
            "E54 loss=362.39 acc=42.81\n",
            "E55 loss=369.93 acc=42.50\n",
            "E56 loss=355.41 acc=43.44\n",
            "E57 loss=358.82 acc=43.44\n",
            "E58 loss=359.37 acc=42.19\n",
            "E59 loss=376.74 acc=42.19\n",
            "E60 loss=359.17 acc=43.75\n",
            "E61 loss=359.66 acc=45.62\n",
            "E62 loss=380.67 acc=41.88\n",
            "E63 loss=373.27 acc=44.69\n",
            "E64 loss=377.26 acc=42.81\n",
            "E65 loss=373.99 acc=41.25\n",
            "E66 loss=362.95 acc=45.62\n",
            "E67 loss=365.82 acc=44.69\n",
            "E68 loss=368.76 acc=45.94\n",
            "E69 loss=370.51 acc=44.38\n",
            "E70 loss=371.66 acc=43.12\n",
            "E71 loss=375.58 acc=43.12\n",
            "E72 loss=379.09 acc=42.50\n",
            "E73 loss=381.39 acc=42.81\n",
            "E74 loss=383.75 acc=40.94\n",
            "E75 loss=385.30 acc=41.56\n",
            "E76 loss=379.84 acc=41.88\n",
            "E77 loss=383.06 acc=42.19\n",
            "E78 loss=381.64 acc=42.19\n",
            "E79 loss=378.50 acc=43.12\n",
            "E80 loss=378.86 acc=42.19\n",
            "E81 loss=379.09 acc=41.56\n",
            "E82 loss=378.30 acc=42.19\n",
            "E83 loss=376.58 acc=42.50\n",
            "E84 loss=372.81 acc=43.12\n",
            "E85 loss=376.79 acc=42.81\n",
            "E86 loss=377.07 acc=43.44\n",
            "E87 loss=377.71 acc=43.44\n",
            "E88 loss=382.98 acc=43.75\n",
            "E89 loss=376.09 acc=44.38\n",
            "E90 loss=373.28 acc=45.00\n",
            "E91 loss=374.45 acc=42.50\n",
            "E92 loss=372.85 acc=44.06\n",
            "E93 loss=371.89 acc=44.69\n",
            "E94 loss=374.38 acc=44.06\n",
            "E95 loss=374.85 acc=43.44\n",
            "E96 loss=371.38 acc=44.06\n",
            "E97 loss=375.74 acc=45.31\n",
            "E98 loss=377.02 acc=45.00\n",
            "E99 loss=381.88 acc=44.38\n"
          ]
        }
      ]
    },
    {
      "cell_type": "markdown",
      "source": [
        "## Comentarios y Análisis\n"
      ],
      "metadata": {
        "id": "CV_vjC7doJCU"
      }
    },
    {
      "cell_type": "code",
      "source": [
        "print(len(acc1))\n",
        "plt.title('Accuracy')\n",
        "plt.plot(acc1, label = \"RNN Mas Parámetros\")\n",
        "plt.plot(acc2, label = \"CNN\")\n",
        "plt.plot(acc3, label = \"RNN Menor Parámetros\")\n",
        "plt.legend()\n",
        "plt.show()"
      ],
      "metadata": {
        "colab": {
          "base_uri": "https://localhost:8080/",
          "height": 299
        },
        "id": "jrCnPmDtgp7Q",
        "outputId": "95f8f01a-98b2-4112-d71f-633df0102de0"
      },
      "execution_count": null,
      "outputs": [
        {
          "output_type": "stream",
          "name": "stdout",
          "text": [
            "100\n"
          ]
        },
        {
          "output_type": "display_data",
          "data": {
            "text/plain": [
              "<Figure size 432x288 with 1 Axes>"
            ],
            "image/png": "[encoded data removed]"
          },
          "metadata": {
            "needs_background": "light"
          }
        }
      ]
    },
    {
      "cell_type": "code",
      "source": [
        "print(len(loss1))\n",
        "plt.title('Loss')\n",
        "plt.plot(loss1, label = \"RNN Mas Parámetros\")\n",
        "plt.plot(loss2, label = \"CNN\")\n",
        "plt.plot(loss3, label = \"RNN Menor Parámetros\")\n",
        "plt.legend()\n",
        "plt.show()"
      ],
      "metadata": {
        "colab": {
          "base_uri": "https://localhost:8080/",
          "height": 299
        },
        "id": "_aVM-0Qeisnm",
        "outputId": "6ed139ac-ce79-40e0-f4a5-671c6a6f90f7"
      },
      "execution_count": null,
      "outputs": [
        {
          "output_type": "stream",
          "name": "stdout",
          "text": [
            "100\n"
          ]
        },
        {
          "output_type": "display_data",
          "data": {
            "text/plain": [
              "<Figure size 432x288 with 1 Axes>"
            ],
            "image/png": "[encoded data removed]"
          },
          "metadata": {
            "needs_background": "light"
          }
        }
      ]
    },
    {
      "cell_type": "markdown",
      "source": [
        "Aquí se puede observar como RNN es bastante superior a CNN, aunque esto se puede deber a los hiperparámetros como lo son la tasa de aprendizaje. Sin embargo, con los valores utilizados se ve como aunque la exactitud parece mantenerse para el caso de CNN la pérdida va aumentando en cada época. También el disminuir las capas ocultas y por consecuencia disminuir los parámetros de RNN afecta demasiado a la red en lo que a la exactitud corresponde."
      ],
      "metadata": {
        "id": "hxoAkdcSrQDh"
      }
    }
  ]
}